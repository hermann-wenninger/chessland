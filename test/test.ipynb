{
 "cells": [
  {
   "cell_type": "code",
   "execution_count": 60,
   "metadata": {},
   "outputs": [],
   "source": [
    "from __future__ import annotations\n",
    "class Contact:\n",
    "   all_contacts : List[\"Contact\"] = []\n",
    "   def __init__(self, name: str, email: str) -> None:\n",
    "       self.name = name\n",
    "       self.email = email\n",
    "       Contact.all_contacts.append(self)\n",
    "   def __repr__(self) -> str:\n",
    "       return f\"{self.__class__.__name__}({self.name!r}, {self.email!r})\"\n",
    "           \n",
    "      "
   ]
  },
  {
   "cell_type": "code",
   "execution_count": 61,
   "metadata": {},
   "outputs": [
    {
     "name": "stdout",
     "output_type": "stream",
     "text": [
      "Contact('fritz lang', 'fritzlang@priamos.de')\n"
     ]
    }
   ],
   "source": [
    "x = Contact('fritz lang','fritzlang@priamos.de')\n",
    "print(x)"
   ]
  },
  {
   "cell_type": "code",
   "execution_count": 62,
   "metadata": {},
   "outputs": [],
   "source": [
    "c_1 = Contact(\"Dusty\", \"dusty@example.com\")\n",
    "c_2 = Contact(\"Steve\", \"steve@itmaybeahack.com\")"
   ]
  },
  {
   "cell_type": "code",
   "execution_count": 63,
   "metadata": {},
   "outputs": [
    {
     "data": {
      "text/plain": [
       "[Contact('Steve', 'steve@itmaybeahack.com'),\n",
       " Contact('Dusty', 'dusty@example.com'),\n",
       " Contact('fritz lang', 'fritzlang@priamos.de')]"
      ]
     },
     "execution_count": 63,
     "metadata": {},
     "output_type": "execute_result"
    }
   ],
   "source": [
    "Contact.all_contacts[::-1]"
   ]
  },
  {
   "cell_type": "code",
   "execution_count": 64,
   "metadata": {},
   "outputs": [],
   "source": [
    "\n",
    "class Supplier(Contact):\n",
    "   def order(self, order: \"Order\") -> None:\n",
    "       print(\n",
    "           \"If this were a real system we would send \"\n",
    "           f\"'{order}' order to '{self.name} under {self.email}'\"\n",
    "       )"
   ]
  },
  {
   "cell_type": "code",
   "execution_count": 65,
   "metadata": {},
   "outputs": [],
   "source": [
    "s = Supplier('candocaro','subchess@donaldisOUT.com')"
   ]
  },
  {
   "cell_type": "code",
   "execution_count": 66,
   "metadata": {},
   "outputs": [
    {
     "name": "stdout",
     "output_type": "stream",
     "text": [
      "If this were a real system we would send 'I need pliers' order to 'candocaro under subchess@donaldisOUT.com'\n"
     ]
    }
   ],
   "source": [
    "s.order(\"I need pliers\")"
   ]
  },
  {
   "cell_type": "code",
   "execution_count": 69,
   "metadata": {},
   "outputs": [],
   "source": [
    "from __future__ import annotations\n",
    "class ContactList(list[\"Contact\"]):\n",
    "    def search(self, name: str) -> list[\"Contact\"]:\n",
    "        matching_contacts: list[\"Contact\"] = []\n",
    "        for contact in self:\n",
    "            if name in contact.name:\n",
    "                matching_contacts.append(contact)\n",
    "        return matching_contacts\n",
    "class Contact:\n",
    "    all_contacts = ContactList()\n",
    "    def __init__(self, name: str, email: str) -> None:\n",
    "        self.name = name\n",
    "        self.email = email\n",
    "        Contact.all_contacts.append(self)\n",
    "    def __repr__(self) -> str:\n",
    "        return (\n",
    "            f\"{self.__class__.__name__}(\" \n",
    "            f\"{self.name!r}, {self.email!r}\" f\")\"\n",
    "        )"
   ]
  },
  {
   "cell_type": "code",
   "execution_count": 68,
   "metadata": {},
   "outputs": [
    {
     "data": {
      "text/plain": [
       "[Supplier('candocaro', 'subchess@donaldisOUT.com'),\n",
       " Contact('Steve', 'steve@itmaybeahack.com'),\n",
       " Contact('Dusty', 'dusty@example.com'),\n",
       " Contact('fritz lang', 'fritzlang@priamos.de')]"
      ]
     },
     "execution_count": 68,
     "metadata": {},
     "output_type": "execute_result"
    }
   ],
   "source": [
    "Contact.all_contacts[::-1]\n",
    "#'''need to impede duplicates'''"
   ]
  },
  {
   "cell_type": "code",
   "execution_count": 76,
   "metadata": {},
   "outputs": [
    {
     "data": {
      "text/plain": [
       "['John A',\n",
       " 'John B',\n",
       " 'John A',\n",
       " 'John B',\n",
       " 'John A',\n",
       " 'John B',\n",
       " 'John A',\n",
       " 'John B',\n",
       " 'John A',\n",
       " 'John B']"
      ]
     },
     "execution_count": 76,
     "metadata": {},
     "output_type": "execute_result"
    }
   ],
   "source": [
    "c1 = Contact(\"John A\", \"johna@example.net\")\n",
    "c2 = Contact(\"John B\", \"johnb@sloop.net\")\n",
    "c3 = Contact(\"Jenna C\", \"cutty@sark.io\")\n",
    "[c.name for c in Contact.all_contacts.search('John')]"
   ]
  },
  {
   "cell_type": "code",
   "execution_count": 77,
   "metadata": {},
   "outputs": [
    {
     "data": {
      "text/plain": [
       "True"
      ]
     },
     "execution_count": 77,
     "metadata": {},
     "output_type": "execute_result"
    }
   ],
   "source": [
    "[] == list()"
   ]
  },
  {
   "cell_type": "code",
   "execution_count": 82,
   "metadata": {},
   "outputs": [],
   "source": [
    "class Emailable():\n",
    "    email= ''\n",
    "class MailSender(Emailable):\n",
    "    def send_mail(self, message: str) -> None:\n",
    "        print(f\"Sending mail to {self.email=}\")"
   ]
  },
  {
   "cell_type": "code",
   "execution_count": 83,
   "metadata": {},
   "outputs": [],
   "source": [
    "class EmailableContact(Contact, MailSender):\n",
    "    pass"
   ]
  },
  {
   "cell_type": "code",
   "execution_count": 100,
   "metadata": {},
   "outputs": [
    {
     "name": "stdout",
     "output_type": "stream",
     "text": [
      "Sending mail to self.email='johnb@sloop.net'\n"
     ]
    }
   ],
   "source": [
    "e = EmailableContact(\"John B\", \"johnb@sloop.net\")\n",
    "Contact.all_contacts\n",
    "[EmailableContact('John B', 'johnb@sloop.net')]\n",
    "e.send_mail(\"Hello, test e-mail here\")"
   ]
  },
  {
   "cell_type": "code",
   "execution_count": 102,
   "metadata": {},
   "outputs": [],
   "source": [
    "class BaseClass:\n",
    "    num_base_calls = 0\n",
    "    def call_me(self) -> None:\n",
    "        print(\"Calling method on BaseClass\")\n",
    "        return self.num_base_calls += 1\n",
    "class LeftSubclass(BaseClass):\n",
    "    num_left_calls = 0\n",
    "    def call_me(self) -> None:\n",
    "        BaseClass.call_me(self)\n",
    "        print(\"Calling method on LeftSubclass\")\n",
    "        return self.num_left_calls += 1\n",
    "class RightSubclass(BaseClass):\n",
    "    num_right_calls = 0\n",
    "    def call_me(self) -> None:\n",
    "        BaseClass.call_me(self)\n",
    "        print(\"Calling method on RightSubclass\")\n",
    "        return self.num_right_calls += 1\n",
    "class Subclass(LeftSubclass, RightSubclass):\n",
    "    num_sub_calls = 0\n",
    "    def call_me(self) -> None:\n",
    "        LeftSubclass.call_me(self)\n",
    "        RightSubclass.call_me(self)\n",
    "        print(\"Calling method on Subclass\")\n",
    "        return self.num_sub_calls += 1"
   ]
  },
  {
   "cell_type": "code",
   "execution_count": 126,
   "metadata": {},
   "outputs": [
    {
     "name": "stdout",
     "output_type": "stream",
     "text": [
      "Calling method on BaseClass\n"
     ]
    },
    {
     "ename": "AttributeError",
     "evalue": "'BaseClass' object has no attribute '__mro__'",
     "output_type": "error",
     "traceback": [
      "\u001b[1;31m---------------------------------------------------------------------------\u001b[0m",
      "\u001b[1;31mAttributeError\u001b[0m                            Traceback (most recent call last)",
      "Cell \u001b[1;32mIn[126], line 8\u001b[0m\n\u001b[0;32m      6\u001b[0m \u001b[39mfor\u001b[39;00m i \u001b[39min\u001b[39;00m x:\n\u001b[0;32m      7\u001b[0m     i\u001b[39m.\u001b[39mcall_me()\n\u001b[1;32m----> 8\u001b[0m     \u001b[39mprint\u001b[39m(a\u001b[39m.\u001b[39;49m\u001b[39m__mro__\u001b[39;49m)\n",
      "\u001b[1;31mAttributeError\u001b[0m: 'BaseClass' object has no attribute '__mro__'"
     ]
    }
   ],
   "source": [
    "a = BaseClass()\n",
    "b = LeftSubclass()\n",
    "c = RightSubclass()\n",
    "d = Subclass()\n",
    "x = [a,b,c,d]\n",
    "for i in x:\n",
    "    i.call_me()\n",
    "    print(a.__mro__)\n"
   ]
  }
 ],
 "metadata": {
  "kernelspec": {
   "display_name": "aaa",
   "language": "python",
   "name": "python3"
  },
  "language_info": {
   "codemirror_mode": {
    "name": "ipython",
    "version": 3
   },
   "file_extension": ".py",
   "mimetype": "text/x-python",
   "name": "python",
   "nbconvert_exporter": "python",
   "pygments_lexer": "ipython3",
   "version": "3.10.9"
  },
  "orig_nbformat": 4
 },
 "nbformat": 4,
 "nbformat_minor": 2
}
