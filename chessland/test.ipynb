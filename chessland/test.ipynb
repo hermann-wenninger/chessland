{
 "cells": [
  {
   "cell_type": "code",
   "execution_count": 1,
   "metadata": {},
   "outputs": [
    {
     "name": "stdout",
     "output_type": "stream",
     "text": [
      "test\n"
     ]
    }
   ],
   "source": [
    "print('test')"
   ]
  },
  {
   "cell_type": "code",
   "execution_count": null,
   "metadata": {},
   "outputs": [],
   "source": [
    "def zuege():\n",
    "    zug = 0\n",
    "    "
   ]
  },
  {
   "cell_type": "code",
   "execution_count": 5,
   "metadata": {},
   "outputs": [
    {
     "name": "stdout",
     "output_type": "stream",
     "text": [
      "br\n",
      "bn\n",
      "bb\n",
      "bq\n",
      "bk\n",
      "bb\n",
      "bn\n",
      "br\n",
      "bp\n",
      "bp\n",
      "bp\n",
      "bp\n",
      "bp\n",
      "bp\n",
      "bp\n",
      "bp\n",
      "\n",
      "\n",
      "\n",
      "\n",
      "\n",
      "\n",
      "\n",
      "\n",
      "\n",
      "\n",
      "\n",
      "\n",
      "\n",
      "\n",
      "\n",
      "\n",
      "\n",
      "\n",
      "\n",
      "\n",
      "\n",
      "\n",
      "\n",
      "\n",
      "\n",
      "\n",
      "\n",
      "\n",
      "\n",
      "\n",
      "\n",
      "\n",
      "wp\n",
      "wp\n",
      "wp\n",
      "wp\n",
      "wp\n",
      "wp\n",
      "wp\n",
      "wp\n",
      "wr\n",
      "wn\n",
      "wb\n",
      "wq\n",
      "wk\n",
      "wb\n",
      "wn\n",
      "wr\n"
     ]
    }
   ],
   "source": [
    "x = [['br','bn','bb','bq','bk','bb','bn','br'],\n",
    "                 ['bp','bp','bp','bp','bp','bp','bp','bp'],\n",
    "                 ['','','','','','','',''],\n",
    "                 ['','','','','','','',''],\n",
    "                 ['','','','','','','',''],\n",
    "                 ['','','','','','','',''],\n",
    "                 ['wp','wp','wp','wp','wp','wp','wp','wp'],\n",
    "                 ['wr','wn','wb','wq','wk','wb','wn','wr']]\n",
    "for i in range(len(x)):\n",
    "        for j in range(len(x[i])):\n",
    "                print(x[i][j])"
   ]
  }
 ],
 "metadata": {
  "kernelspec": {
   "display_name": "aaa",
   "language": "python",
   "name": "python3"
  },
  "language_info": {
   "codemirror_mode": {
    "name": "ipython",
    "version": 3
   },
   "file_extension": ".py",
   "mimetype": "text/x-python",
   "name": "python",
   "nbconvert_exporter": "python",
   "pygments_lexer": "ipython3",
   "version": "3.8.16"
  },
  "orig_nbformat": 4
 },
 "nbformat": 4,
 "nbformat_minor": 2
}
