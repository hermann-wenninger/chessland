{
 "cells": [
  {
   "cell_type": "markdown",
   "id": "13e45cc7-101b-4d89-b3a3-c993fc8dd84f",
   "metadata": {},
   "source": [
    "# Unit 4.5 -- A PyTorch for Regression Example"
   ]
  },
  {
   "cell_type": "code",
   "execution_count": 1,
   "id": "1f1905a9-9fdd-4a3d-ab9c-838472a54df0",
   "metadata": {},
   "outputs": [
    {
     "name": "stdout",
     "output_type": "stream",
     "text": [
      "Python implementation: CPython\n",
      "Python version       : 3.9.15\n",
      "IPython version      : 8.6.0\n",
      "\n",
      "torch     : 1.13.0\n",
      "matplotlib: 3.6.2\n",
      "\n",
      "conda environment: dl-fundamentals\n",
      "\n"
     ]
    }
   ],
   "source": [
    "%load_ext watermark\n",
    "%watermark -v -p torch,matplotlib --conda"
   ]
  },
  {
   "cell_type": "markdown",
   "id": "900cec25-4212-40a2-909e-2f79faffe7e8",
   "metadata": {},
   "source": [
    "## Dataset"
   ]
  },
  {
   "cell_type": "code",
   "execution_count": 2,
   "id": "08ec38ee-d521-4297-ae66-3266975d5ebd",
   "metadata": {},
   "outputs": [],
   "source": [
    "import torch\n",
    "\n",
    "X_train = torch.tensor(\n",
    "    [258.0, 270.0, 294.0, 320.0, 342.0, 368.0, 396.0, 446.0, 480.0, 586.0]\n",
    ").view(-1, 1)\n",
    "\n",
    "y_train = torch.tensor(\n",
    "    [236.4, 234.4, 252.8, 298.6, 314.2, 342.2, 360.8, 368.0, 391.2, 390.8]\n",
    ")"
   ]
  },
  {
   "cell_type": "code",
   "execution_count": 3,
   "id": "594434e0-5c82-46f5-8c08-8be56cdd5cb5",
   "metadata": {},
   "outputs": [
    {
     "data": {
      "image/png": "[encoded data removed]",
      "text/plain": [
       "<Figure size 640x480 with 1 Axes>"
      ]
     },
     "metadata": {},
     "output_type": "display_data"
    }
   ],
   "source": [
    "import matplotlib.pyplot as plt\n",
    "\n",
    "plt.scatter(X_train, y_train)\n",
    "plt.xlabel(\"Feature variable\")\n",
    "plt.ylabel(\"Target variable\")\n",
    "plt.show()"
   ]
  },
  {
   "cell_type": "markdown",
   "id": "82ec75e6-09fe-4d0a-beeb-983b7b45a024",
   "metadata": {},
   "source": [
    "## Multilayer Perceptron"
   ]
  },
  {
   "cell_type": "markdown",
   "id": "4e0533f5-76c4-4338-a796-16128d9cf336",
   "metadata": {},
   "source": [
    "- No architecture changes besides the output unit"
   ]
  },
  {
   "cell_type": "code",
   "execution_count": 4,
   "id": "3f798d2f-d880-4090-8090-2b5255ca5921",
   "metadata": {},
   "outputs": [],
   "source": [
    "class PyTorchMLP(torch.nn.Module):\n",
    "    def __init__(self, num_features):\n",
    "        super().__init__()\n",
    "\n",
    "        self.all_layers = torch.nn.Sequential(\n",
    "            # 1st hidden layer\n",
    "            torch.nn.Linear(num_features, 50),\n",
    "            torch.nn.ReLU(),\n",
    "            # 2nd hidden layer\n",
    "            torch.nn.Linear(50, 25),\n",
    "            torch.nn.ReLU(),\n",
    "            # output layer\n",
    "            torch.nn.Linear(25, 1), ## Only 1 output unit\n",
    "        )\n",
    "\n",
    "    def forward(self, x):\n",
    "        logits = self.all_layers(x).flatten()\n",
    "        return logits"
   ]
  },
  {
   "cell_type": "markdown",
   "id": "cbc2b088-046d-47e2-98bf-c3d974e3742e",
   "metadata": {},
   "source": [
    "#### Normalize data"
   ]
  },
  {
   "cell_type": "code",
   "execution_count": 5,
   "id": "2122eadb-adf5-4775-b7fc-fb6a8f6c12fc",
   "metadata": {},
   "outputs": [],
   "source": [
    "x_mean, x_std = X_train.mean(), X_train.std()\n",
    "y_mean, y_std = y_train.mean(), y_train.std()\n",
    "\n",
    "X_train_norm = (X_train - x_mean) / x_std\n",
    "y_train_norm = (y_train - y_mean) / y_std"
   ]
  },
  {
   "cell_type": "markdown",
   "id": "7ad3ec52-0a93-42dc-87e3-83e56b070b09",
   "metadata": {},
   "source": [
    "#### Set up DataLoader"
   ]
  },
  {
   "cell_type": "code",
   "execution_count": 6,
   "id": "cf881a30-73ad-4490-b5a2-3d14f3e9cb04",
   "metadata": {},
   "outputs": [],
   "source": [
    "from torch.utils.data import DataLoader, Dataset\n",
    "\n",
    "\n",
    "class MyDataset(Dataset):\n",
    "    def __init__(self, X, y):\n",
    "\n",
    "        self.features = X\n",
    "        self.targets = y\n",
    "\n",
    "    def __getitem__(self, index):\n",
    "        x = self.features[index]\n",
    "        y = self.targets[index]\n",
    "        return x, y\n",
    "\n",
    "    def __len__(self):\n",
    "        return self.targets.shape[0]\n",
    "\n",
    "\n",
    "train_ds = MyDataset(X_train_norm, y_train_norm)\n",
    "\n",
    "train_loader = DataLoader(\n",
    "    dataset=train_ds,\n",
    "    batch_size=20,\n",
    "    shuffle=True,\n",
    ")"
   ]
  },
  {
   "cell_type": "markdown",
   "id": "23c5a40b-c73a-49bd-8144-0ef0ce4cf6d5",
   "metadata": {},
   "source": [
    "### Train Model"
   ]
  },
  {
   "cell_type": "code",
   "execution_count": 7,
   "id": "9aaeca35-4be3-4d47-8fd9-d59af82ffbd1",
   "metadata": {},
   "outputs": [
    {
     "name": "stdout",
     "output_type": "stream",
     "text": [
      "Epoch: 001/030 | Batch 000/001 | Train Loss: 0.86\n",
      "Epoch: 002/030 | Batch 000/001 | Train Loss: 0.63\n",
      "Epoch: 003/030 | Batch 000/001 | Train Loss: 0.45\n",
      "Epoch: 004/030 | Batch 000/001 | Train Loss: 0.29\n",
      "Epoch: 005/030 | Batch 000/001 | Train Loss: 0.18\n",
      "Epoch: 006/030 | Batch 000/001 | Train Loss: 0.11\n",
      "Epoch: 007/030 | Batch 000/001 | Train Loss: 0.08\n",
      "Epoch: 008/030 | Batch 000/001 | Train Loss: 0.07\n",
      "Epoch: 009/030 | Batch 000/001 | Train Loss: 0.06\n",
      "Epoch: 010/030 | Batch 000/001 | Train Loss: 0.05\n",
      "Epoch: 011/030 | Batch 000/001 | Train Loss: 0.05\n",
      "Epoch: 012/030 | Batch 000/001 | Train Loss: 0.04\n",
      "Epoch: 013/030 | Batch 000/001 | Train Loss: 0.04\n",
      "Epoch: 014/030 | Batch 000/001 | Train Loss: 0.04\n",
      "Epoch: 015/030 | Batch 000/001 | Train Loss: 0.03\n",
      "Epoch: 016/030 | Batch 000/001 | Train Loss: 0.03\n",
      "Epoch: 017/030 | Batch 000/001 | Train Loss: 0.03\n",
      "Epoch: 018/030 | Batch 000/001 | Train Loss: 0.02\n",
      "Epoch: 019/030 | Batch 000/001 | Train Loss: 0.02\n",
      "Epoch: 020/030 | Batch 000/001 | Train Loss: 0.02\n",
      "Epoch: 021/030 | Batch 000/001 | Train Loss: 0.02\n",
      "Epoch: 022/030 | Batch 000/001 | Train Loss: 0.02\n",
      "Epoch: 023/030 | Batch 000/001 | Train Loss: 0.02\n",
      "Epoch: 024/030 | Batch 000/001 | Train Loss: 0.02\n",
      "Epoch: 025/030 | Batch 000/001 | Train Loss: 0.02\n",
      "Epoch: 026/030 | Batch 000/001 | Train Loss: 0.02\n",
      "Epoch: 027/030 | Batch 000/001 | Train Loss: 0.01\n",
      "Epoch: 028/030 | Batch 000/001 | Train Loss: 0.01\n",
      "Epoch: 029/030 | Batch 000/001 | Train Loss: 0.01\n",
      "Epoch: 030/030 | Batch 000/001 | Train Loss: 0.01\n"
     ]
    }
   ],
   "source": [
    "import torch.nn.functional as F\n",
    "\n",
    "torch.manual_seed(1)\n",
    "model = PyTorchMLP(num_features=1)\n",
    "\n",
    "optimizer = torch.optim.SGD(model.parameters(), lr=0.1)\n",
    "\n",
    "num_epochs = 30\n",
    "\n",
    "loss_list = []\n",
    "train_acc_list, val_acc_list = [], []\n",
    "for epoch in range(num_epochs):\n",
    "\n",
    "    model = model.train()\n",
    "    for batch_idx, (features, targets) in enumerate(train_loader):\n",
    "\n",
    "        logits = model(features)\n",
    "        loss = F.mse_loss(logits, targets)\n",
    "\n",
    "        optimizer.zero_grad()\n",
    "        loss.backward()\n",
    "        optimizer.step()\n",
    "\n",
    "        if not batch_idx % 250:\n",
    "            ### LOGGING\n",
    "            print(\n",
    "                f\"Epoch: {epoch+1:03d}/{num_epochs:03d}\"\n",
    "                f\" | Batch {batch_idx:03d}/{len(train_loader):03d}\"\n",
    "                f\" | Train Loss: {loss:.2f}\"\n",
    "            )\n",
    "        loss_list.append(loss.item())"
   ]
  },
  {
   "cell_type": "markdown",
   "id": "40fc907d-e774-4c07-8b6e-07d510bef770",
   "metadata": {},
   "source": [
    "### Normalize \"new\" data"
   ]
  },
  {
   "cell_type": "code",
   "execution_count": 8,
   "id": "12d848a0-7b86-40fb-84c1-df9ad3881085",
   "metadata": {},
   "outputs": [],
   "source": [
    "model.eval()\n",
    "\n",
    "X_range = torch.arange(150, 800, 0.1).view(-1, 1)\n",
    "X_range_norm = (X_range - x_mean) / x_std\n",
    "\n",
    "# predict\n",
    "with torch.no_grad():\n",
    "    y_mlp_norm = model(X_range_norm)\n",
    "\n",
    "# MLP returns normalized predictions\n",
    "# undo normalization of preditions for plotting\n",
    "y_mlp = y_mlp_norm * y_std + y_mean"
   ]
  },
  {
   "cell_type": "code",
   "execution_count": 9,
   "id": "8cd94957-61be-4d6b-9e5f-e9a4045815c9",
   "metadata": {},
   "outputs": [
    {
     "data": {
      "image/png": "[encoded data removed]",
      "text/plain": [
       "<Figure size 640x480 with 1 Axes>"
      ]
     },
     "metadata": {},
     "output_type": "display_data"
    }
   ],
   "source": [
    "# plot results\n",
    "plt.scatter(X_train, y_train, label=\"Training points\")\n",
    "plt.plot(X_range, y_mlp, color=\"C1\", label=\"MLP fit\", linestyle=\"-\")\n",
    "\n",
    "\n",
    "plt.xlabel(\"Feature variable\")\n",
    "plt.ylabel(\"Target variable\")\n",
    "plt.legend()\n",
    "# plt.savefig(\"mlp.pdf\")\n",
    "plt.show()"
   ]
  }
 ],
 "metadata": {
  "kernelspec": {
   "display_name": "Python 3 (ipykernel)",
   "language": "python",
   "name": "python3"
  },
  "language_info": {
   "codemirror_mode": {
    "name": "ipython",
    "version": 3
   },
   "file_extension": ".py",
   "mimetype": "text/x-python",
   "name": "python",
   "nbconvert_exporter": "python",
   "pygments_lexer": "ipython3",
   "version": "3.9.15"
  }
 },
 "nbformat": 4,
 "nbformat_minor": 5
}
